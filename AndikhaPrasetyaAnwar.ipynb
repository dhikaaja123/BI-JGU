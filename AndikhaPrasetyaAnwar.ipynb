{
  "nbformat": 4,
  "nbformat_minor": 0,
  "metadata": {
    "colab": {
      "name": "AndikhaPrasetyaAnwar.ipynb",
      "provenance": [],
      "collapsed_sections": [],
      "authorship_tag": "ABX9TyNc7i1zKLEBPdZVOIgvo6jm",
      "include_colab_link": true
    },
    "kernelspec": {
      "name": "python3",
      "display_name": "Python 3"
    }
  },
  "cells": [
    {
      "cell_type": "markdown",
      "metadata": {
        "id": "view-in-github",
        "colab_type": "text"
      },
      "source": [
        "<a href=\"https://colab.research.google.com/github/dhikaaja123/BI-JGU/blob/main/AndikhaPrasetyaAnwar.ipynb\" target=\"_parent\"><img src=\"https://colab.research.google.com/assets/colab-badge.svg\" alt=\"Open In Colab\"/></a>"
      ]
    },
    {
      "cell_type": "code",
      "metadata": {
        "id": "WWITM1lolwKa",
        "outputId": "d25b44f1-7420-4dd5-eb25-1b9483593283",
        "colab": {
          "base_uri": "https://localhost:8080/",
          "height": 35
        }
      },
      "source": [
        "print(\"hellow word\")"
      ],
      "execution_count": null,
      "outputs": [
        {
          "output_type": "stream",
          "text": [
            "hellow word\n"
          ],
          "name": "stdout"
        }
      ]
    },
    {
      "cell_type": "code",
      "metadata": {
        "id": "p6fG57Uml71o",
        "outputId": "6d2a4ee7-1487-41d9-d240-ef90925d3db6",
        "colab": {
          "base_uri": "https://localhost:8080/",
          "height": 35
        }
      },
      "source": [
        "print(\"hallo apakabar\")"
      ],
      "execution_count": null,
      "outputs": [
        {
          "output_type": "stream",
          "text": [
            "hallo apakabar\n"
          ],
          "name": "stdout"
        }
      ]
    },
    {
      "cell_type": "code",
      "metadata": {
        "id": "JVPn-5XKmLgU",
        "outputId": "53909379-c3b9-4530-9dac-481c3cd0699e",
        "colab": {
          "base_uri": "https://localhost:8080/",
          "height": 35
        }
      },
      "source": [
        "print(\"hallo apakabar\",\"kamu hari ini\")"
      ],
      "execution_count": null,
      "outputs": [
        {
          "output_type": "stream",
          "text": [
            "hallo apakabar kamu hari ini\n"
          ],
          "name": "stdout"
        }
      ]
    },
    {
      "cell_type": "code",
      "metadata": {
        "id": "Xbh2NUaFmRQ3",
        "outputId": "2b37420e-6239-485e-bcea-3cd1b2dde7eb",
        "colab": {
          "base_uri": "https://localhost:8080/",
          "height": 35
        }
      },
      "source": [
        "print(\"hallo apakabar\",\"kamu hari ini\",\"?\")"
      ],
      "execution_count": null,
      "outputs": [
        {
          "output_type": "stream",
          "text": [
            "hallo apakabar kamu hari ini ?\n"
          ],
          "name": "stdout"
        }
      ]
    },
    {
      "cell_type": "code",
      "metadata": {
        "id": "2eCH3v0GmVtP",
        "outputId": "ccab7e45-4ac8-4273-e527-76fe30ce547e",
        "colab": {
          "base_uri": "https://localhost:8080/",
          "height": 35
        }
      },
      "source": [
        "print(\"No ke_\",1)"
      ],
      "execution_count": null,
      "outputs": [
        {
          "output_type": "stream",
          "text": [
            "No ke_ 1\n"
          ],
          "name": "stdout"
        }
      ]
    },
    {
      "cell_type": "code",
      "metadata": {
        "id": "TGulj4AHmaAA",
        "outputId": "1c3473f0-66a4-49ae-ce4f-e6f57995e370",
        "colab": {
          "base_uri": "https://localhost:8080/",
          "height": 35
        }
      },
      "source": [
        "#int tipe1 = 0\n",
        "#float tipe2 = 1.2\n",
        "#string tipe3= \"tiga\"\n",
        "\n",
        "tipe1 = 0\n",
        "tipe2 = 1.2\n",
        "tipe3= \"tiga\"\n",
        "\n",
        "print (tipe3)"
      ],
      "execution_count": null,
      "outputs": [
        {
          "output_type": "stream",
          "text": [
            "tiga\n"
          ],
          "name": "stdout"
        }
      ]
    },
    {
      "cell_type": "code",
      "metadata": {
        "id": "tmcWhjHjmflz",
        "outputId": "bf682696-3e8a-40c2-c9d6-d043e62d2d01",
        "colab": {
          "base_uri": "https://localhost:8080/",
          "height": 53
        }
      },
      "source": [
        "print(tipe3)\n",
        "type(tipe3)"
      ],
      "execution_count": null,
      "outputs": [
        {
          "output_type": "stream",
          "text": [
            "tiga\n"
          ],
          "name": "stdout"
        },
        {
          "output_type": "execute_result",
          "data": {
            "text/plain": [
              "str"
            ]
          },
          "metadata": {
            "tags": []
          },
          "execution_count": 8
        }
      ]
    },
    {
      "cell_type": "code",
      "metadata": {
        "id": "iQgR2yJmmjeo",
        "outputId": "27a07d77-793c-4877-faab-12f568d5e08b",
        "colab": {
          "base_uri": "https://localhost:8080/",
          "height": 53
        }
      },
      "source": [
        "print(tipe3)\n",
        "type(tipe2)"
      ],
      "execution_count": null,
      "outputs": [
        {
          "output_type": "stream",
          "text": [
            "tiga\n"
          ],
          "name": "stdout"
        },
        {
          "output_type": "execute_result",
          "data": {
            "text/plain": [
              "float"
            ]
          },
          "metadata": {
            "tags": []
          },
          "execution_count": 9
        }
      ]
    },
    {
      "cell_type": "code",
      "metadata": {
        "id": "GsQTnZmDmpZM",
        "outputId": "13333989-55f8-4e54-a6e0-41bc64cca030",
        "colab": {
          "base_uri": "https://localhost:8080/",
          "height": 35
        }
      },
      "source": [
        "y = 3\n",
        "x = 2\n",
        "z = x + y\n",
        "print (z)"
      ],
      "execution_count": null,
      "outputs": [
        {
          "output_type": "stream",
          "text": [
            "5\n"
          ],
          "name": "stdout"
        }
      ]
    },
    {
      "cell_type": "code",
      "metadata": {
        "id": "t3g3iHlLmtG9",
        "outputId": "4ecee2c7-af1a-4aad-a7af-4d7fd94b0840",
        "colab": {
          "base_uri": "https://localhost:8080/",
          "height": 35
        }
      },
      "source": [
        "a = 1\n",
        "b = a + 1\n",
        "b = 2\n",
        "c = a + b\n",
        "type (c)\n",
        "c = str(c)\n",
        "print (c)"
      ],
      "execution_count": null,
      "outputs": [
        {
          "output_type": "stream",
          "text": [
            "3\n"
          ],
          "name": "stdout"
        }
      ]
    },
    {
      "cell_type": "code",
      "metadata": {
        "id": "iCT3SXv2mwrw",
        "outputId": "7cb5ee06-61f5-4472-b5eb-3bc9ef7eab8c",
        "colab": {
          "base_uri": "https://localhost:8080/",
          "height": 53
        }
      },
      "source": [
        "print(c)\n",
        "type(c)"
      ],
      "execution_count": null,
      "outputs": [
        {
          "output_type": "stream",
          "text": [
            "3\n"
          ],
          "name": "stdout"
        },
        {
          "output_type": "execute_result",
          "data": {
            "text/plain": [
              "str"
            ]
          },
          "metadata": {
            "tags": []
          },
          "execution_count": 12
        }
      ]
    },
    {
      "cell_type": "code",
      "metadata": {
        "id": "pI_3fJZGm0gi",
        "outputId": "0d403cb6-8a91-478d-ae78-896c1766bb67",
        "colab": {
          "base_uri": "https://localhost:8080/",
          "height": 35
        }
      },
      "source": [
        "b =str(a)\n",
        "print(b)"
      ],
      "execution_count": null,
      "outputs": [
        {
          "output_type": "stream",
          "text": [
            "1\n"
          ],
          "name": "stdout"
        }
      ]
    },
    {
      "cell_type": "code",
      "metadata": {
        "id": "Pn9IYFqmm4rZ",
        "outputId": "7a4c4e09-89aa-4bd0-e67a-d7988b58f62a",
        "colab": {
          "base_uri": "https://localhost:8080/",
          "height": 35
        }
      },
      "source": [
        "b =str(a)\n",
        "print(b*5)"
      ],
      "execution_count": null,
      "outputs": [
        {
          "output_type": "stream",
          "text": [
            "11111\n"
          ],
          "name": "stdout"
        }
      ]
    },
    {
      "cell_type": "code",
      "metadata": {
        "id": "ZI_8ijh3m86T",
        "outputId": "8aeb4e85-a003-4034-a6f8-9f2c25c0629a",
        "colab": {
          "base_uri": "https://localhost:8080/",
          "height": 35
        }
      },
      "source": [
        "b = \"Hai\"\n",
        "print (b*5)"
      ],
      "execution_count": null,
      "outputs": [
        {
          "output_type": "stream",
          "text": [
            "HaiHaiHaiHaiHai\n"
          ],
          "name": "stdout"
        }
      ]
    },
    {
      "cell_type": "code",
      "metadata": {
        "id": "qWyR1SrJnDjD",
        "outputId": "07c4335a-96b7-4e11-d709-19110ba62c0b",
        "colab": {
          "base_uri": "https://localhost:8080/",
          "height": 35
        }
      },
      "source": [
        "a = 2\n",
        "b = 3\n",
        "\n",
        "print(\"a adalah\",a,\"b adalah\",b)"
      ],
      "execution_count": null,
      "outputs": [
        {
          "output_type": "stream",
          "text": [
            "a adalah 2 b adalah 3\n"
          ],
          "name": "stdout"
        }
      ]
    },
    {
      "cell_type": "code",
      "metadata": {
        "id": "fYXOQsF9nE4N",
        "outputId": "74a4c331-c6b3-42ad-c7dd-cafd15974ed9",
        "colab": {
          "base_uri": "https://localhost:8080/",
          "height": 35
        }
      },
      "source": [
        "c = a\n",
        "a = b\n",
        "b = c\n",
        "\n",
        "print(\"a adalah\",a,\"b adalah\",b)"
      ],
      "execution_count": null,
      "outputs": [
        {
          "output_type": "stream",
          "text": [
            "a adalah 3 b adalah 2\n"
          ],
          "name": "stdout"
        }
      ]
    },
    {
      "cell_type": "code",
      "metadata": {
        "id": "Lfgo5CqdnJGQ",
        "outputId": "f05fcace-b479-4ff6-9557-810d1f5bb98c",
        "colab": {
          "base_uri": "https://localhost:8080/",
          "height": 35
        }
      },
      "source": [
        "#tambah => +\n",
        "#kurang => -\n",
        "#kali => *\n",
        "#bagi => /\n",
        "#pangkat => **\n",
        "\n",
        "print(\"Hai\"*2)"
      ],
      "execution_count": null,
      "outputs": [
        {
          "output_type": "stream",
          "text": [
            "HaiHai\n"
          ],
          "name": "stdout"
        }
      ]
    },
    {
      "cell_type": "code",
      "metadata": {
        "id": "0HscX9rfnOLZ",
        "outputId": "6ea3cbcf-ac3b-44c1-e5ee-ccfb413aa86e",
        "colab": {
          "base_uri": "https://localhost:8080/",
          "height": 35
        }
      },
      "source": [
        "print(\"Hai\"*(2**3))"
      ],
      "execution_count": null,
      "outputs": [
        {
          "output_type": "stream",
          "text": [
            "HaiHaiHaiHaiHaiHaiHaiHai\n"
          ],
          "name": "stdout"
        }
      ]
    },
    {
      "cell_type": "code",
      "metadata": {
        "id": "k_8aiFwdnZ7W",
        "outputId": "aa6bfed3-1c0d-437d-f5d3-5e9ac9a90d31",
        "colab": {
          "base_uri": "https://localhost:8080/",
          "height": 71
        }
      },
      "source": [
        "#cin >> apa\n",
        "\n",
        "print(\"entry your name\")\n",
        "a=input()\n",
        "print(\"Hallo\",a,\"Nice to meet you\")"
      ],
      "execution_count": null,
      "outputs": [
        {
          "output_type": "stream",
          "text": [
            "entry your name\n",
            "Andikha Prasetya Anwar\n",
            "Hallo Andikha Prasetya Anwar Nice to meet you\n"
          ],
          "name": "stdout"
        }
      ]
    }
  ]
}